{
 "cells": [
  {
   "metadata": {},
   "cell_type": "markdown",
   "source": "# import des bibliotheques importantes",
   "id": "6cd6d1ebe97e8a32"
  },
  {
   "cell_type": "code",
   "id": "initial_id",
   "metadata": {
    "collapsed": true,
    "ExecuteTime": {
     "end_time": "2024-05-31T09:12:00.300809Z",
     "start_time": "2024-05-31T09:12:00.166539Z"
    }
   },
   "source": [
    "import pandas as pd\n",
    "import numpy as np\n",
    "from faker import Faker\n",
    "from datetime import datetime, timedelta"
   ],
   "outputs": [],
   "execution_count": 1
  },
  {
   "metadata": {},
   "cell_type": "markdown",
   "source": "# generation des noms fictifs avec Faker",
   "id": "4f17e366e000daa8"
  },
  {
   "metadata": {
    "ExecuteTime": {
     "end_time": "2024-05-31T09:12:00.678561Z",
     "start_time": "2024-05-31T09:12:00.301313Z"
    }
   },
   "cell_type": "code",
   "source": [
    "# Initialisation de Faker pour générer des noms\n",
    "fake = Faker()\n",
    "names = [fake.first_name() for _ in range(5000)]"
   ],
   "id": "5577f72e15a039cb",
   "outputs": [],
   "execution_count": 2
  },
  {
   "metadata": {},
   "cell_type": "markdown",
   "source": "# Generation des ages",
   "id": "8e46a4e1dcf795e"
  },
  {
   "metadata": {},
   "cell_type": "markdown",
   "source": "",
   "id": "eae27cdf57db2cf0"
  },
  {
   "metadata": {
    "ExecuteTime": {
     "end_time": "2024-05-31T09:12:00.683283Z",
     "start_time": "2024-05-31T09:12:00.679718Z"
    }
   },
   "cell_type": "code",
   "source": "ages = np.random.randint(22, 60, size=5000)",
   "id": "d82fe0fdac786c31",
   "outputs": [],
   "execution_count": 3
  },
  {
   "metadata": {},
   "cell_type": "markdown",
   "source": "# Generation des genres (Sexes)",
   "id": "4b2a3094b02415f9"
  },
  {
   "metadata": {
    "ExecuteTime": {
     "end_time": "2024-05-31T09:17:33.000384Z",
     "start_time": "2024-05-31T09:17:32.995026Z"
    }
   },
   "cell_type": "code",
   "source": [
    "# Liste des genres possibles\n",
    "genres_values = ['Female', 'Male']\n"
   ],
   "id": "eb5a7fdc0c1ea153",
   "outputs": [],
   "execution_count": 14
  },
  {
   "metadata": {},
   "cell_type": "markdown",
   "source": "# Generation des salaires (multiples de 100)",
   "id": "6e762a03ada8d991"
  },
  {
   "metadata": {
    "ExecuteTime": {
     "end_time": "2024-05-31T09:17:34.094828Z",
     "start_time": "2024-05-31T09:17:34.089951Z"
    }
   },
   "cell_type": "code",
   "source": [
    "# Création d'une liste de salaires multiples de 100\n",
    "min_salary = 10000\n",
    "max_salary = 1000000\n",
    "step = 100\n",
    "salaries_list = list(range(min_salary, max_salary + step, step))\n",
    "salaries = np.random.choice(salaries_list, size=5000)\n",
    "#salaries = np.random.randint(10000, 100000, size=5000)"
   ],
   "id": "c26e24dd00348d64",
   "outputs": [],
   "execution_count": 15
  },
  {
   "metadata": {},
   "cell_type": "markdown",
   "source": "# Generation des dates",
   "id": "ae77b8d46c60522c"
  },
  {
   "metadata": {
    "ExecuteTime": {
     "end_time": "2024-05-31T09:17:34.885627Z",
     "start_time": "2024-05-31T09:17:34.853869Z"
    }
   },
   "cell_type": "code",
   "source": [
    "# Fonction pour générer des dates aléatoires\n",
    "def generate_random_date(start_date, end_date):\n",
    "    delta = end_date - start_date\n",
    "    days = np.random.randint(0, delta.days + 1)\n",
    "    return start_date + timedelta(days=days)\n",
    "\n",
    "\n",
    "join_dates = [generate_random_date(datetime(2000, 1, 1), datetime.now()) for _ in range(5000)]\n"
   ],
   "id": "c8bf63fa5758ebca",
   "outputs": [],
   "execution_count": 16
  },
  {
   "metadata": {},
   "cell_type": "markdown",
   "source": "# Creation d'un dataFrame avec les données generées",
   "id": "7975c0b943395d0f"
  },
  {
   "metadata": {
    "ExecuteTime": {
     "end_time": "2024-05-31T09:17:35.754078Z",
     "start_time": "2024-05-31T09:17:35.737754Z"
    }
   },
   "cell_type": "code",
   "source": [
    "# Création du DataFrame\n",
    "data = {\n",
    "    'id': range(1, 5001),\n",
    "    'name': names,\n",
    "    'age': ages,\n",
    "    'gender': np.random.choice(genres_values, size=5000),\n",
    "    'salary': salaries,\n",
    "    'join_date': join_dates\n",
    "}\n",
    "\n",
    "df = pd.DataFrame(data)"
   ],
   "id": "2d45e92493ecb04b",
   "outputs": [],
   "execution_count": 17
  },
  {
   "metadata": {},
   "cell_type": "markdown",
   "source": "# Affichage du DataFrame",
   "id": "d4780743c8248f6a"
  },
  {
   "metadata": {
    "ExecuteTime": {
     "end_time": "2024-05-31T09:17:36.713309Z",
     "start_time": "2024-05-31T09:17:36.707462Z"
    }
   },
   "cell_type": "code",
   "source": [
    "# Affichage des premières lignes du DataFrame\n",
    "print(df.head())"
   ],
   "id": "79a3f289602c8a47",
   "outputs": [
    {
     "name": "stdout",
     "output_type": "stream",
     "text": [
      "   id      name  age  gender  salary  join_date\n",
      "0   1   William   37  Female   48600 2021-07-24\n",
      "1   2  Jonathan   48  Female  869900 2011-12-31\n",
      "2   3      Mary   30  Female  474200 2001-01-03\n",
      "3   4     Shari   56  Female   43900 2009-11-23\n",
      "4   5   Lindsey   48    Male  981000 2011-10-27\n"
     ]
    }
   ],
   "execution_count": 18
  },
  {
   "metadata": {},
   "cell_type": "markdown",
   "source": "# Sauvegarde du DataFrame dans un fichier excel",
   "id": "57d452d1baf4a0f9"
  },
  {
   "metadata": {
    "ExecuteTime": {
     "end_time": "2024-05-31T09:17:40.689044Z",
     "start_time": "2024-05-31T09:17:39.318243Z"
    }
   },
   "cell_type": "code",
   "source": [
    "# Sauvegarde du DataFrame dans un fichier Excel\n",
    "df.to_excel('dataset.xlsx', index=False)"
   ],
   "id": "81192ca6e957aae2",
   "outputs": [],
   "execution_count": 19
  },
  {
   "metadata": {},
   "cell_type": "code",
   "source": "",
   "id": "3beaf489d5f750e3",
   "outputs": [],
   "execution_count": null
  }
 ],
 "metadata": {
  "kernelspec": {
   "display_name": "Python 3",
   "language": "python",
   "name": "python3"
  },
  "language_info": {
   "codemirror_mode": {
    "name": "ipython",
    "version": 2
   },
   "file_extension": ".py",
   "mimetype": "text/x-python",
   "name": "python",
   "nbconvert_exporter": "python",
   "pygments_lexer": "ipython2",
   "version": "2.7.6"
  }
 },
 "nbformat": 4,
 "nbformat_minor": 5
}
